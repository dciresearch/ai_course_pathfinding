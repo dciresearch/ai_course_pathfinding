{
 "cells": [
  {
   "cell_type": "markdown",
   "id": "ff2d2b69-2e4c-4baa-b754-6fbba70655e1",
   "metadata": {},
   "source": [
    "# Поиск кратчайшего пути на реальных картах"
   ]
  },
  {
   "cell_type": "code",
   "execution_count": null,
   "id": "93fd4734",
   "metadata": {},
   "outputs": [],
   "source": [
    "!pip install -r requirements.txt"
   ]
  },
  {
   "cell_type": "markdown",
   "id": "361b052d-334a-45c8-9028-6e5497f4476a",
   "metadata": {},
   "source": [
    "# Подготовка карты"
   ]
  },
  {
   "cell_type": "markdown",
   "id": "b7dec7e9-4b54-49c1-b27f-c478259ba2a1",
   "metadata": {},
   "source": [
    "Для задания загрузим карты 3 размеров:"
   ]
  },
  {
   "cell_type": "code",
   "execution_count": null,
   "id": "697a8017-1d89-4224-b756-d728d097bced",
   "metadata": {},
   "outputs": [],
   "source": [
    "%load_ext autoreload\n",
    "%autoreload 2"
   ]
  },
  {
   "cell_type": "code",
   "execution_count": null,
   "id": "00159328-7914-4317-a1ea-7b83939094e0",
   "metadata": {},
   "outputs": [],
   "source": [
    "from src.osmnx_utils import PlaceGraph"
   ]
  },
  {
   "cell_type": "code",
   "execution_count": null,
   "id": "eb0672bc-cf76-45e9-98ea-485ac03c7808",
   "metadata": {},
   "outputs": [],
   "source": [
    "small_graph = PlaceGraph(\"Naro-Fominsk, Russia\", road_mode=\"bike\")\n",
    "print(len(small_graph.G.vs))\n",
    "small_graph.plot_graph()"
   ]
  },
  {
   "cell_type": "code",
   "execution_count": null,
   "id": "4860f658-e921-43b9-a06c-500019bedc54",
   "metadata": {},
   "outputs": [],
   "source": [
    "medium_graph = PlaceGraph(\"Sochi, Russia\", road_mode=\"bike\")\n",
    "print(len(medium_graph.G.vs))\n",
    "medium_graph.plot_graph()"
   ]
  },
  {
   "cell_type": "code",
   "execution_count": null,
   "id": "878ffe44-0019-40dd-8ca2-2cd39074c973",
   "metadata": {},
   "outputs": [],
   "source": [
    "large_graph = PlaceGraph(\"Saint Petersburg, Russia\", road_mode=\"bike\")\n",
    "print(len(medium_graph.G.vs))\n",
    "large_graph.plot_graph()"
   ]
  },
  {
   "cell_type": "code",
   "execution_count": null,
   "id": "425d8923-8077-46f5-bce4-bb21c533dfc7",
   "metadata": {},
   "outputs": [],
   "source": [
    "def run_test(solver, graph, start=0, target=315, visualize=False):\n",
    "\n",
    "    cost, path, steps = solver.find_path(graph, start, target)\n",
    "    if visualize:\n",
    "        display(graph.plot_route_animated(path, targets=[start, target], nodes_are_fast=True, online_mode=False))\n",
    "    return cost, path, steps"
   ]
  },
  {
   "cell_type": "markdown",
   "id": "fe128982-6fb1-42a3-b3c6-06c3c1b3b3a4",
   "metadata": {},
   "source": [
    "# Implement generic pathfinding"
   ]
  },
  {
   "cell_type": "markdown",
   "id": "06553c84-18f0-4fe0-a2f9-9a3f6f68046b",
   "metadata": {},
   "source": [
    "Для начала реализуем обобщенный алгоритм поиска пути. \n",
    "\n",
    "Шаги работы алгоритма:\n",
    "1. *GenericPathfinder.__init__(node_sorting_func, heuristic_func=None)* - инициализируем параметры:\n",
    "   * *node_sorting_func(node)* - функция сортировки вершин в очереди\n",
    "   * *heuristic_func(node, target_node)* - функция оценки длины оставшегося пути\n",
    "2. запустим цикл *find_path(G, starting_node, target_nodes)*:\n",
    "    1. *prepare_for_pathfinding(G, starting_node)* - инициализирует очередь и уставливает начальные значения атрибутов поиска (i.e. длина кратчайшего пути и вершина-источник)\n",
    "    2. *_queue_iteration(G, target_node)* - основной цикл поиска:\n",
    "       * get_next() берем следующую в очереди вершину node\n",
    "       * Проверяем node[\"visited\"]\n",
    "       * Если не посещали, то для каждого соседа:\n",
    "         * Вычисляем стоимость пути (реальную + оценку) с учетом перехода от node\n",
    "         * Сравниваем эту стоимость с ранее посчитанной\n",
    "         * Если стоимость меньше, то обновляем поля соседской вершины *set_pathfinding_attrs*\n",
    "         * Если достигли целевой вершины target_node, то возвращаем стоимость пути и сам путь\n",
    "         * Если не достигли, то добавим соседа в очередь\n",
    "\n",
    "Внизу дана заготовка. Нужно дополнить блоки с меткой \"TO IMPLEMENT\"."
   ]
  },
  {
   "cell_type": "code",
   "execution_count": 263,
   "id": "ace92b5a-bb1f-46f5-9e87-dce9b6739f5d",
   "metadata": {},
   "outputs": [],
   "source": [
    "from sortedcontainers import SortedList\n",
    "\n",
    "from typing import List, Tuple, Union\n",
    "from tqdm.auto import tqdm\n",
    "import numpy as np\n",
    "\n",
    "def default_heuristic(node_a, node_b):\n",
    "    return 0\n",
    "\n",
    "class GenericPathfinder:\n",
    "    def __init__(self, node_sorting_func, heuristic_func=None, weight='travel_time'):\n",
    "        self.node_sorting_func=node_sorting_func\n",
    "        self.w='travel_time'\n",
    "        self.heuristic_func=heuristic_func\n",
    "        if self.heuristic_func is None:\n",
    "            self.heuristic_func = default_heuristic\n",
    "    \n",
    "    def _init_queue(self, start=None):\n",
    "        self.queue = SortedList(key=self.node_sorting_func)\n",
    "        if start is not None:\n",
    "            self.queue.add(start)\n",
    "\n",
    "    def enqueue(self, node):\n",
    "        self.queue.add(node)\n",
    "\n",
    "    def get_next(self):\n",
    "        return self.queue.pop(0)\n",
    "\n",
    "    @staticmethod\n",
    "    def set_pathfinding_attrs(\n",
    "        node, sp_source=None, sp_len=None, sp_est=None, visited=None\n",
    "    ):\n",
    "        if sp_source is not None:\n",
    "            node[\"shortest_path_source\"]=sp_source\n",
    "        if sp_len is not None:\n",
    "            node[\"shortest_path_len\"]=sp_len\n",
    "        if sp_est is not None:\n",
    "            node[\"heuristic\"]=sp_est\n",
    "        if visited is not None:\n",
    "            node[\"visited\"]=visited\n",
    "        if all(map(lambda x: x is None, [sp_source, sp_len, sp_est, visited])):\n",
    "            node[\"shortest_path_source\"]=None\n",
    "            node[\"shortest_path_len\"]=np.inf\n",
    "            node[\"heuristic\"]=np.inf\n",
    "            node[\"visited\"]=False\n",
    "    \n",
    "    def recover_shortest_path(self, node):\n",
    "        \"\"\"\n",
    "        Recursive function that recovers the sequence of [\"shortest_path_source\"] of node and its parents\n",
    "        \n",
    "        TO IMPLEMENT\n",
    "        \"\"\"\n",
    "        pass\n",
    "\n",
    "        \n",
    "    def _queue_iteration(self, G, target_node) -> Tuple[bool, Union[None, Tuple[int, List[int]]]]:\n",
    "        \"\"\"\n",
    "        TO IMPLEMENT\n",
    "        - use methods get_next, enqueue, set_pathfinding_attrs, recover_shortest_path\n",
    "        - follow typing instructions\n",
    "        - write pathfinding attributes with set_pathfinding_attrs\n",
    "        - dont forget to clean Node attributes at \n",
    "        - if last queue node has been already visited return False, None\n",
    "        - if reached target_node return True, shortest path length and path in form of List[Node.index]\n",
    "        - otherwise return True, None\n",
    "        \"\"\"\n",
    "        ###############################################################\n",
    "        return (True, None)\n",
    "        ###############################################################\n",
    "\n",
    "    def prepare_for_pathfinding(self, G, starting_node):\n",
    "        \"\"\"\n",
    "        TO IMPLEMENT\n",
    "        - resets queue and enqueues starting_node\n",
    "        - sets initial pathfinding attributes for starting_node\n",
    "        - use set_pathfinding_attrs and _init_queue methods\n",
    "        \"\"\"\n",
    "        pass\n",
    "    \n",
    "    def find_path(self, graph, start, target):\n",
    "        G=graph.G\n",
    "        assert start in set(range(len(G.vs)))\n",
    "        assert target in set(range(len(G.vs)))\n",
    "\n",
    "        # graph.set_online_mode(landmark_size=0.8, traffic_factor=3.0)\n",
    "        # graph.start_traffic()\n",
    "        # graph.get_online_update()\n",
    "\n",
    "        target_node=G.vs[target]\n",
    "        \n",
    "        self.prepare_for_pathfinding(G, G.vs[start])\n",
    "        \n",
    "        with tqdm(total=len(G.vs), miniters=1, desc='Looking for path...') as tracker:\n",
    "            while(self.queue):\n",
    "                updated, found = self._queue_iteration(G, target_node)\n",
    "                if found is not None:\n",
    "                    tracker.set_description(f\"Found path with cost: {found[0]}\")\n",
    "                    steps=tracker.n\n",
    "                    return (*found, steps)\n",
    "                if updated:\n",
    "                    tracker.update()\n",
    "        return (np.inf, None, len(G.vs))"
   ]
  },
  {
   "cell_type": "markdown",
   "id": "4815efb3-1bfb-477c-b77e-1cfd92db0945",
   "metadata": {},
   "source": [
    "## BFS test"
   ]
  },
  {
   "cell_type": "code",
   "execution_count": null,
   "id": "8f60d61b-5e79-408f-820b-54c4fef97053",
   "metadata": {},
   "outputs": [],
   "source": [
    "def bfs_cost(x):\n",
    "    ### TO IMPLEMENT ###\n",
    "    pass\n",
    "\n",
    "bfs=GenericPathfinder(bfs_cost)\n",
    "\n",
    "cost, path, steps = run_test(bfs, small_graph, visualize=True)"
   ]
  },
  {
   "cell_type": "markdown",
   "id": "6c6355da-1b86-4117-84d5-74d33ec71019",
   "metadata": {},
   "source": [
    "## Dijkstra variant"
   ]
  },
  {
   "cell_type": "code",
   "execution_count": null,
   "id": "10c95748-edaf-4f96-9652-43f9e665214d",
   "metadata": {},
   "outputs": [],
   "source": [
    "def dijkstra_cost(x):\n",
    "    ### TO IMPLEMENT ###\n",
    "    pass\n",
    "\n",
    "dijkstra = GenericPathfinder(dijkstra_cost)\n",
    "\n",
    "cost, path, steps = run_test(dijkstra, small_graph, visualize=True)"
   ]
  },
  {
   "cell_type": "markdown",
   "id": "88713fc5-d744-4a92-a057-f63a0488ef97",
   "metadata": {},
   "source": [
    "## Best-first pathfinding"
   ]
  },
  {
   "cell_type": "markdown",
   "id": "108b2b23-82ab-4a9a-906f-f777d7698f30",
   "metadata": {},
   "source": [
    "Доступная информация по вершинам:"
   ]
  },
  {
   "cell_type": "code",
   "execution_count": null,
   "id": "fac71473-b6ff-49aa-804c-e81e5a4842ff",
   "metadata": {},
   "outputs": [],
   "source": [
    "print(small_graph.G.vs[0])"
   ]
  },
  {
   "cell_type": "code",
   "execution_count": null,
   "id": "79d647dc-56ce-425d-bd5a-aecac48374aa",
   "metadata": {
    "scrolled": true
   },
   "outputs": [],
   "source": [
    "for e in graph.G.es:\n",
    "    print(e)\n",
    "    break"
   ]
  },
  {
   "cell_type": "markdown",
   "id": "c76b1e72-7be9-488c-ab8f-b88e46eb1b55",
   "metadata": {},
   "source": [
    "Используя имеющиеся поля вершины придумайте эвристику кратчайшего пути"
   ]
  },
  {
   "cell_type": "code",
   "execution_count": null,
   "id": "56ace588-100f-43f2-90fd-6a714dbd4b87",
   "metadata": {},
   "outputs": [],
   "source": [
    "from sklearn.metrics import pairwise_distances\n",
    "\n",
    "def simple_heuristic(node_a, node_b):\n",
    "    ### TO IMPLEMENT ###\n",
    "    pass\n",
    "\n",
    "def best_first_cost(x):\n",
    "    ### TO IMPLEMENT ###\n",
    "    pass\n",
    "\n",
    "best_first = GenericPathfinder(best_first_cost, heuristic_func=simple_heuristic)\n",
    "\n",
    "\n",
    "cost, path, steps = run_test(best_first, small_graph, visualize=True)"
   ]
  },
  {
   "cell_type": "markdown",
   "id": "774783ad-6142-43b9-8561-9e363a22b774",
   "metadata": {},
   "source": [
    "## A-star"
   ]
  },
  {
   "cell_type": "code",
   "execution_count": null,
   "id": "14a6c066-5882-412e-954d-9eb7f8ba5ab7",
   "metadata": {},
   "outputs": [],
   "source": [
    "def a_star_cost(x):\n",
    "    ### TO IMPLEMENT ###\n",
    "    pass\n",
    "\n",
    "a_star = GenericPathfinder(a_star_cost, heuristic_func=simple_heuristic)\n",
    "\n",
    "cost, path, steps = run_test(a_star, small_graph, visualize=True)"
   ]
  },
  {
   "cell_type": "markdown",
   "id": "22e59b11-cb67-49fc-afcb-8e569ef8b982",
   "metadata": {},
   "source": [
    "# Advanced heuristics"
   ]
  },
  {
   "cell_type": "markdown",
   "id": "e032b612-9e75-4051-9f7a-f5c798f1a387",
   "metadata": {},
   "source": [
    "Тут понадобятся методы\n",
    "* graph.G - доступ к графу карты\n",
    "* graph.G.vs - доступ к вершинам Node графа\n",
    "* graph.G.es - доступ к вершинам Edge графа\n",
    "* Node[\"ATTRIBUTЕ_NAME\"] = X - добавление нового признака \"ATTRIBUTЕ_NAME\" к вершинам\n",
    "* Edge[\"ATTRIBUTЕ_NAME\"] = X - добавление нового признака \"ATTRIBUTЕ_NAME\" к ребрам"
   ]
  },
  {
   "cell_type": "markdown",
   "id": "2af49fc1-8c07-4a49-a61a-86d7e5b19fce",
   "metadata": {},
   "source": [
    "## ALT"
   ]
  },
  {
   "cell_type": "markdown",
   "id": "d193f2d1-d18d-4f6f-a73a-fcdc1379f68a",
   "metadata": {},
   "source": [
    "Из всех вершин выбирается небольшое количество *landmarks*: $\\lambda$. Для каждой вершины предварительно рассчитываются стоимости до каждого $\\lambda$.\n",
    "\n",
    "Поиск в ALT осуществляется как в A*, но оценка оставшегося пути делается на основе рассчитанных стоимостей. Пусть мы рассматриваем ребро $(u,v)$ на пути к целевой вершине $t$.\\\n",
    "Для каждой $\\lambda$ в соответствии с неравенством треугольника мы имеем оценку оставшейся части пути (через $\\lambda$): \n",
    "$$dist(\\lambda, t) − dist(\\lambda, v) \\leq dist(v, t),$$ \n",
    "$$dist(v, \\lambda) − dist(t, \\lambda) \\leq dist(v, t).$$ \n",
    "Минимум для всех $\\lambda$ и даст искомую оценку.\n",
    "\n",
    "Часто в качестве *landmarks* выбирают вершины, через которые проходят 3 и более кратчайших маршрутов.\n",
    "\n",
    "**Замечание:** считать все расстояния долго и дорого, поэтому обычно вершины бьют на регионы (кластеры), например, по географическим координатам, и считают расстояния\\\n",
    "от их центров до *landmarks*, а затем при поиске используют эвристики для этих центроидов, применяя точный расчет A-star только для концов маршрута при пересечении границ их регионов."
   ]
  },
  {
   "cell_type": "code",
   "execution_count": null,
   "id": "e688ef47-b42f-45d3-a7d5-b813c8e32a58",
   "metadata": {},
   "outputs": [],
   "source": [
    "### TO IMPLEMENT ###\n",
    "####################"
   ]
  },
  {
   "cell_type": "markdown",
   "id": "eb847c7c-9331-4568-8fbe-dbb46b93ffff",
   "metadata": {},
   "source": [
    "## Contraction hierarchies"
   ]
  },
  {
   "cell_type": "markdown",
   "id": "9ee8f845-742e-423c-a763-1d9847dab39d",
   "metadata": {},
   "source": [
    "Следующий логичный шаг - воспользоваться фактом, что некоторые кратчайшие пути имеют общие последовательности ребер $u,...,v$.\\\n",
    "А значит эти последовательности $u,...,v$ можно заранее рассчитать и соединить их концы $(u,v)$ новым ребром $shortcut(u,v)=dist(u,v)$.\n",
    "\n",
    "Пары $(u,v)$ определяют по следующему алгоритму:\n",
    "1. Найти всех соседей $w\\in Neighbor(v)$\n",
    "2. Для каждого $w\\in Neighbor(v)$ рассчитать $shortest\\_path(u,w)$\n",
    "3. Если $|\\{w:v\\in shortest\\_path(u,w)\\}| > k$, то добавляем в граф ребро $shortcut(u,v)=dist(u,v)$\n",
    "\n",
    "Обычно порядок перебора вершин такой: *landmarks* -> вершины с наименьшим числом инцидентных ребер (альтернатив) -> случайные вершины"
   ]
  },
  {
   "cell_type": "code",
   "execution_count": null,
   "id": "bfa7dcc5-df40-4be4-a321-84b0d0ee96d6",
   "metadata": {},
   "outputs": [],
   "source": [
    "### TO IMPLEMENT ###\n",
    "####################"
   ]
  },
  {
   "cell_type": "code",
   "execution_count": null,
   "id": "e1d7a5c5-aa82-4bf5-b890-4af48314edcc",
   "metadata": {},
   "outputs": [],
   "source": []
  }
 ],
 "metadata": {
  "kernelspec": {
   "display_name": "ai_course",
   "language": "python",
   "name": "ai_course"
  },
  "language_info": {
   "codemirror_mode": {
    "name": "ipython",
    "version": 3
   },
   "file_extension": ".py",
   "mimetype": "text/x-python",
   "name": "python",
   "nbconvert_exporter": "python",
   "pygments_lexer": "ipython3",
   "version": "3.10.14"
  }
 },
 "nbformat": 4,
 "nbformat_minor": 5
}
