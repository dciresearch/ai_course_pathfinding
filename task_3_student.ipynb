{
 "cells": [
  {
   "cell_type": "markdown",
   "id": "b39119cc-0126-44be-82e6-242ffe30594b",
   "metadata": {},
   "source": [
    "# Задача коммивояжёра на реальных картах"
   ]
  },
  {
   "cell_type": "code",
   "execution_count": null,
   "id": "26597e7f",
   "metadata": {},
   "outputs": [],
   "source": [
    "!pip install -r requirements.txt"
   ]
  },
  {
   "cell_type": "markdown",
   "id": "e3c5f9c6-1a2b-48a9-b9a4-14de61b930ac",
   "metadata": {},
   "source": [
    "Доставка товаров - неотъемлемая часть любого бизнес-процесса в реальном секторе экономики. Чтобы снизить себестоимость и цену на услуги для потребителя, заказы объединяют и доставляются одним курьером. Здесь появляется так называемый эффект масштаба, когда себестоимость доставки единицы заказа снижается с увеличением их количества.\n",
    "\n",
    "В \"тривиальном\" случае, когда планирование идет на уровне одного курьера и пула заказов, возникает классическая задача коммивояжера (нетривиальный известен как vehicle routing problem). **Суть задачи** - найти оптимальную последовательность точек доставки, которая минимизировала бы логистические издержки выражаемые главным образом во времени доставки. Нетривиальность заключается в том, что сложность пространства решения растет экспоненциально с числом точек доставки, тем самым делая вычислительно невозможным поиск точного решения.\\\n",
    "Так, например, для 86000 точек доставки вычисление точного решения методом ветвей и границ составило 136 ЦПУ-лет (1 ЦПУ-час = час работы процессора с производительностью 1 GFLOPs, 1 A100 = 20 TFLOPS, кластер Сбера Кристофари NEO = 792 A100 $\\approx$ 16 GFLOPS)\n",
    "\n",
    "Поскольку в реальной жизни слишком много факторов, влияющих на время доставки, задачу коммивояжера решают быстрыми приближенными алгоритмами, эффективность которых при правильной настройке уступает оптимальному решению всего лишь на 3-4%. "
   ]
  },
  {
   "cell_type": "markdown",
   "id": "0f98aca6-0bd2-43f5-9950-60cafbbdb8d0",
   "metadata": {},
   "source": [
    "## Загрузка карты и задачи"
   ]
  },
  {
   "cell_type": "markdown",
   "id": "610c421f-ed24-40ed-86de-01ba1f74f4b0",
   "metadata": {},
   "source": [
    "В этом задании мы рассмотрим задачу коммивояжера в контексте города Казань (Москва и Санкт-Петербург слишком большие, чтобы вычислять без оптимизаций компилятора).\\\n",
    "Для начала загрузим карту через подготовленный класс:"
   ]
  },
  {
   "cell_type": "code",
   "execution_count": null,
   "id": "f4443799-730e-444a-a26d-82b5e79d168b",
   "metadata": {},
   "outputs": [],
   "source": [
    "%load_ext autoreload\n",
    "%autoreload 2"
   ]
  },
  {
   "cell_type": "code",
   "execution_count": null,
   "id": "2b74a683-3d9d-4f96-ae9e-8bf7fedb04da",
   "metadata": {},
   "outputs": [],
   "source": [
    "from src.osmnx_utils import PlaceGraph\n",
    "\n",
    "# Feasible\n",
    "graph = PlaceGraph(\"Kazan, Russia\", road_mode=\"bike\")\n",
    "\n",
    "# requires optimization\n",
    "#graph = PlaceGraph(\"Saint Petersburg, Russia\", road_mode=\"bike\")\n",
    "\n",
    "graph.plot_graph()"
   ]
  },
  {
   "cell_type": "markdown",
   "id": "eb194aec-ac24-4b11-95b8-eb2bb75a8735",
   "metadata": {},
   "source": [
    "Сформируем задачу, выбрав известные на картах точки. Например, запросим список всех баров города и выберем половину для доставки."
   ]
  },
  {
   "cell_type": "code",
   "execution_count": null,
   "id": "f17284e1-fb69-48b8-b297-ae6533a730b3",
   "metadata": {},
   "outputs": [],
   "source": [
    "problem = graph.get_travelling_salesman_problem(\"bar pub biergarten\".split(), ratio=0.5)\n",
    "\n",
    "print(len(problem.target_nodes))"
   ]
  },
  {
   "cell_type": "markdown",
   "id": "29cecc37-3513-4254-9fc9-45ad4ba76bf2",
   "metadata": {},
   "source": [
    "Объект *problem* содержит все необходимые данные для решения задачи.\\\n",
    "В последствии мы будем обращаться к графу карты города исключительно для визуализации."
   ]
  },
  {
   "cell_type": "code",
   "execution_count": null,
   "id": "e1a2ed71-96fe-439c-b9e7-3c99ec1e1ff9",
   "metadata": {},
   "outputs": [],
   "source": [
    "graph.plot_graph(problem.target_nodes)"
   ]
  },
  {
   "cell_type": "markdown",
   "id": "a76e106a-1ad9-4ed3-a13e-8fae66ecbf1d",
   "metadata": {},
   "source": [
    "# Generic TSP solver"
   ]
  },
  {
   "cell_type": "markdown",
   "id": "eb7fac87-96c6-4f25-abfc-92d6efca76e3",
   "metadata": {},
   "source": [
    "Для решения задачи коммивояжера мы будем использовать методы на базе алгоритма Hill Climbing. \n",
    "Ниже представлена его обобщенная реализация (**в ней ничего менять не нужно**)."
   ]
  },
  {
   "cell_type": "code",
   "execution_count": null,
   "id": "1582f7ed-1679-4655-9c96-82ce508228bd",
   "metadata": {},
   "outputs": [],
   "source": [
    "from typing import List\n",
    "from tqdm.auto import tqdm\n",
    "import numpy as np\n",
    "\n",
    "\n",
    "class GenericHillClimbSolver:\n",
    "    def __init__(self, solution_pool_size=1):\n",
    "        self.solution_pool_size = solution_pool_size\n",
    "\n",
    "    def init_solutions(self, solution_size: int) -> List[np.ndarray]:\n",
    "        pass\n",
    "\n",
    "    def make_options(self, solutions: List[np.ndarray]) -> List[np.ndarray]:\n",
    "        pass\n",
    "\n",
    "    def evaluation_function(\n",
    "        self, solution: np.ndarray, distance_matrix: np.ndarray, **kwargs\n",
    "    ) -> float:\n",
    "        pass\n",
    "\n",
    "    def select_best_options(\n",
    "        self, options: List[np.ndarray], distance_matrix: np.ndarray\n",
    "    ) -> List[np.ndarray]:\n",
    "        pass\n",
    "\n",
    "    def init_iteration_parameters(self, distance_matrix):\n",
    "        pass\n",
    "\n",
    "    def main_iteration(self, best_solutions, record, distance_matrix) -> (float, List[np.ndarray]):\n",
    "        pass\n",
    "    \n",
    "    def solve(self, distance_matrix: np.ndarray, tol_steps=0):\n",
    "        self.init_iteration_parameters(distance_matrix)\n",
    "        base_tol_steps=tol_steps\n",
    "        best_solutions = self.init_solutions(distance_matrix.shape[0])\n",
    "        assert isinstance(best_solutions, list) and len(best_solutions) > 0\n",
    "\n",
    "        record = -np.inf #self.evaluation_function(best_solutions[0], distance_matrix)\n",
    "        assert record <= 0, \"We use negative values for MAX optimization\"\n",
    "\n",
    "        pbar = tqdm(total=tol_steps+1, mininterval=5, maxinterval=100, leave=True)\n",
    "        while True:\n",
    "\n",
    "            session_record, best_options = self.main_iteration(best_solutions, record, distance_matrix)\n",
    "\n",
    "            if session_record <= record:\n",
    "                tol_steps-=1\n",
    "                if tol_steps % 10:\n",
    "                    pbar.update(10)\n",
    "                if tol_steps < 0:\n",
    "                    pbar.close()\n",
    "                    return best_solutions[0], record\n",
    "            else:\n",
    "                tol_steps=base_tol_steps\n",
    "                pbar.n=0\n",
    "                pbar.refresh()\n",
    "                \n",
    "            if session_record >= record:\n",
    "                if (session_record > record):\n",
    "                    pbar.set_description(f\"Current score: {session_record}\")\n",
    "                best_solutions = best_options\n",
    "                record = session_record"
   ]
  },
  {
   "cell_type": "markdown",
   "id": "df247830-3edf-459c-8a73-f33a295fbf5a",
   "metadata": {},
   "source": [
    "## Simple hill climbing"
   ]
  },
  {
   "cell_type": "code",
   "execution_count": null,
   "id": "a7e13286-87f9-41a7-9a3a-15c9eafda7de",
   "metadata": {},
   "outputs": [],
   "source": [
    "def get_solution_path(solution, path_matrix):\n",
    "    route = []\n",
    "    for a,b in zip(solution, np.roll(solution, -1)):\n",
    "        path=path_matrix[a][b]\n",
    "        if len(path) == 0:\n",
    "            break\n",
    "        route = route[:-1] + path\n",
    "    return route\n",
    "\n",
    "def swap_positions(array, positions):\n",
    "    positions = list(positions)\n",
    "    array = np.copy(array)\n",
    "    array[positions] = array[positions[::-1]]\n",
    "    return array\n",
    "\n",
    "def get_solution_cost(solution, distance_matrix):\n",
    "    return sum(distance_matrix[a][b] for a, b in zip(solution, np.roll(solution, -1)))"
   ]
  },
  {
   "cell_type": "markdown",
   "id": "4e2a17d3-9470-451e-8732-c970f1b42fe9",
   "metadata": {},
   "source": [
    "Первый вариант алгоритма - стандартный Hill Climbing.\n",
    "\n",
    "Формальное описание в терминах методов класса GenericHillClimbSolver:\n",
    "1. *init_solutions* - Инициализируем начальное решение (любой порядок точек).\n",
    "2. *make_options* - Выпишем все соседние варианты решений. Для задачи коммивояжера соседнее решение это просто перестановка любой пары вершин (используйте функцию *swap_positions*).\n",
    "3. *select_best_options* - Отсортируем соседние решения по оптимальности (функция *get_solution_cost*) и выберем лучшие.\n",
    "4. *evaluation_function* - Зафиксируем лучший вариант итерации и запомним его оценку оптимальности\n",
    "5. Если вариант решения, полученный в результате шагов 2-4 лучше известного, то возвращаемся на шаг 2, иначе заканчиваем работу\n",
    "\n",
    "**Шаг 5 реализовывать не надо** - вместо этого нужно организовать вызов методов шагов 2-4 в методе *main_iteration*, который должен возвращать оценку лучшего решения и само решение.\n"
   ]
  },
  {
   "cell_type": "code",
   "execution_count": null,
   "id": "c7ee8983-7f1d-473a-85a2-5c8a7c2c3d05",
   "metadata": {},
   "outputs": [],
   "source": [
    "from itertools import combinations\n",
    "\n",
    "\n",
    "class SimpleHillClimb(GenericHillClimbSolver):\n",
    "    def init_solutions(self, solution_size: int) -> List[np.ndarray]:\n",
    "        ### TO IMPLEMENT ###\n",
    "        pass\n",
    "    \n",
    "    def make_options(self, solutions: List[np.ndarray]) -> List[np.ndarray]:\n",
    "        ### TO IMPLEMENT ###\n",
    "        pass\n",
    "\n",
    "    def evaluation_function(\n",
    "        self, solution: np.ndarray, distance_matrix: np.ndarray, **kwargs\n",
    "    ) -> float:\n",
    "        ### TO IMPLEMENT ###\n",
    "        pass\n",
    "\n",
    "    def select_best_options(self, options, distance_matrix):\n",
    "        ### TO IMPLEMENT ###\n",
    "        pass\n",
    "        \n",
    "    def main_iteration(self, best_solutions, record, distance_matrix):\n",
    "        ### TO IMPLEMENT ###\n",
    "        pass"
   ]
  },
  {
   "cell_type": "code",
   "execution_count": null,
   "id": "801031c1-56d4-4bc2-98cb-0591be4b6021",
   "metadata": {
    "scrolled": true
   },
   "outputs": [],
   "source": [
    "solver = SimpleHillClimb()\n",
    "\n",
    "path, cost=solver.solve(problem.distance_matrix, tol_steps=0)\n",
    "path, cost"
   ]
  },
  {
   "cell_type": "code",
   "execution_count": null,
   "id": "75112e50-6c12-4435-b2ac-df7fc79e7fa9",
   "metadata": {},
   "outputs": [],
   "source": [
    "graph.plot_route_animated(get_solution_path(path, problem.shortest_paths), problem.target_nodes, render_every=50)"
   ]
  },
  {
   "cell_type": "markdown",
   "id": "0eefb294-a815-413d-ae6e-3368a7c62403",
   "metadata": {},
   "source": [
    "## Stochastic hill climbing"
   ]
  },
  {
   "cell_type": "markdown",
   "id": "e59ea5b0-efe5-4cfe-9e87-2411c311aa90",
   "metadata": {},
   "source": [
    "Очевидный недостаток стандартного алгоритма Hill Climbing - локальные минимумы.\n",
    "Попробуем из них выбраться, заменив выбор лучшего решения на случайный.\n",
    "\n",
    "Для этого модифицируем метод *select_best_options*"
   ]
  },
  {
   "cell_type": "code",
   "execution_count": null,
   "id": "3abf3443-be74-4eac-8788-b7e616f72c03",
   "metadata": {},
   "outputs": [],
   "source": [
    "class StochasticHillClimb(SimpleHillClimb):\n",
    "    def select_best_options(\n",
    "        self, options: List[np.ndarray], distance_matrix: np.ndarray\n",
    "    ) -> List[np.ndarray]:\n",
    "        ### TO IMPLEMENT ###\n",
    "        pass"
   ]
  },
  {
   "cell_type": "code",
   "execution_count": null,
   "id": "14a5df29-958b-4b82-a767-72aca2c38ebb",
   "metadata": {
    "scrolled": true
   },
   "outputs": [],
   "source": [
    "solver = StochasticHillClimb()\n",
    "\n",
    "path, cost=solver.solve(problem.distance_matrix, tol_steps=10000)\n",
    "path, cost"
   ]
  },
  {
   "cell_type": "code",
   "execution_count": null,
   "id": "04554a24-dbef-4ff4-9643-b403abc03ac7",
   "metadata": {},
   "outputs": [],
   "source": [
    "graph.plot_route_animated(get_solution_path(path, problem.shortest_paths), problem.target_nodes, render_every=50)"
   ]
  },
  {
   "cell_type": "markdown",
   "id": "80c634ec-193c-4a03-8454-461b8187ad8a",
   "metadata": {},
   "source": [
    "## Simulated annealing"
   ]
  },
  {
   "cell_type": "markdown",
   "id": "114f8310-bbe5-48eb-aeb2-9d3d091b7f84",
   "metadata": {},
   "source": [
    "Случайное блуждание по соседним вариантам, хоть и может дать более оптимальное решение, все же сходится крайне медленно.\n",
    "\n",
    "Вот и придумали алгоритм имитации отжига (simulated annealing).\\\n",
    "Смысл следующий. Давайте вместо перехода только в лучшие решения $S^*$ будем с некоторой вероятностью переходить в любые случайные решения $S$.\n",
    "\n",
    "Вероятность перехода в новое решение задается следующим образом:\n",
    "* $P(accept|score(S)>score(S^*)) = 1$\n",
    "* $P(accept|score(S)\\leq score(S^*)) = exp(\\frac{-|score(S^*)-score(S)|}{T})$\n",
    "\n",
    "где $T$ - некоторый параметр температуры распределения, контролирующий диапазон допустимых отклонений от известного оптимума.\n",
    "\n",
    "Поскольку по мере работы алгоритма поиска мы все ближе подходим к оптимуму начинают с большой температуры $T$ и с каждой итерацией снижают градус:\n",
    "$$T_{i+1}=T_i*cooling\\_factor$$\n",
    "\n",
    "Для реализации алгоритма имитации отжига достаточно:\n",
    "* добавить сброс температуры в инициализацию процесса поиска *init_iteration_parameters*\n",
    "* добавить механизм вероятностного перехода в основной цикл *main_iteration*"
   ]
  },
  {
   "cell_type": "code",
   "execution_count": null,
   "id": "610d6bda-3b2c-496f-be76-0dc3b6383dda",
   "metadata": {},
   "outputs": [],
   "source": [
    "class SimulatedAnnealing(StochasticHillClimb):\n",
    "    def __init__(self, solution_pool_size=1, temperature=100, cooling_factor=0.999):\n",
    "        super().__init__(solution_pool_size)\n",
    "        self.T_0 = temperature\n",
    "        self.cool = cooling_factor\n",
    "\n",
    "    def init_iteration_parameters(self, distance_matrix):\n",
    "        ### TO IMPLEMENT ###\n",
    "        pass\n",
    "    \n",
    "    def main_iteration(self, best_solutions, record, distance_matrix):\n",
    "        ### TO IMPLEMENT ###\n",
    "        pass"
   ]
  },
  {
   "cell_type": "code",
   "execution_count": null,
   "id": "64ff5562-6a06-49c6-adcf-08cd84a78a08",
   "metadata": {},
   "outputs": [],
   "source": [
    "solver = SimulatedAnnealing()\n",
    "\n",
    "path, cost=solver.solve(problem.distance_matrix, tol_steps=10000)\n",
    "path, cost"
   ]
  },
  {
   "cell_type": "code",
   "execution_count": null,
   "id": "a9d5778c-02e2-4cb5-ae5e-7597f500b6bc",
   "metadata": {},
   "outputs": [],
   "source": [
    "graph.plot_route_animated(get_solution_path(path, problem.shortest_paths), problem.target_nodes, render_every=50)"
   ]
  },
  {
   "cell_type": "markdown",
   "id": "cfddbf53-b167-4b51-9466-d8a9ffb2d666",
   "metadata": {},
   "source": [
    "## Tabu Search"
   ]
  },
  {
   "cell_type": "markdown",
   "id": "79bfb9fa-e251-4fae-afe3-4d8daec0bca4",
   "metadata": {},
   "source": [
    "Очевидным недостатком алгоритма имитации отжига (да и других стохастических методов) - возможность повторного сэмплирования пройденных позиций.\\\n",
    "Простейшее решение - кэширования последних **k принятых** (по вероятностному порогу) решений.\n",
    "\n",
    "Дополните методы **init_iteration_parameters** и адаптируйте метод **main_iteration** под механизм памяти.\n",
    "\n",
    "Используйте готовые методы для записи, проверки и загрузки решений из памяти."
   ]
  },
  {
   "cell_type": "code",
   "execution_count": null,
   "id": "159af8eb-ee1d-4fc0-be80-9210739bfb6e",
   "metadata": {},
   "outputs": [],
   "source": [
    "import json\n",
    "\n",
    "class TabuSearch(SimulatedAnnealing):\n",
    "    def __init__(self, solution_pool_size=1, temperature=100, cooling_factor=0.999, memory_size=50):\n",
    "        super().__init__(solution_pool_size, temperature=temperature, cooling_factor=cooling_factor)\n",
    "        self.memory_size = memory_size\n",
    "\n",
    "    def convert_to_memory(self, solution):\n",
    "        return json.dumps(solution.tolist())\n",
    "\n",
    "    def load_from_memory(self, memory):\n",
    "        return np.array(json.loads(memory))\n",
    "    \n",
    "    def add_to_memory(self, solution):\n",
    "        self.memory.append(self.convert_to_memory(solution))\n",
    "        self.memory = self.memory[-self.memory_size:]\n",
    "\n",
    "    def is_in_memory(self,solution):\n",
    "        return convert_to_memory(solution) in self.memory\n",
    "    \n",
    "    def init_iteration_parameters(self, distance_matrix):\n",
    "        super().init_iteration_parameters(distance_matrix)\n",
    "        ### TO IMPLEMENT ###\n",
    "        pass\n",
    "    \n",
    "    def main_iteration(self, best_solutions, record, distance_matrix):\n",
    "        ### TO IMPLEMENT ###\n",
    "        pass"
   ]
  },
  {
   "cell_type": "code",
   "execution_count": null,
   "id": "14423e0c-f74a-4e66-b55b-ef5596df3f5b",
   "metadata": {
    "scrolled": true
   },
   "outputs": [],
   "source": [
    "solver = TabuSearch()\n",
    "\n",
    "path, cost=solver.solve(problem.distance_matrix, tol_steps=10000)\n",
    "path, cost"
   ]
  },
  {
   "cell_type": "code",
   "execution_count": null,
   "id": "e2b5f29c-2bb7-44f5-b3bf-cbcd886e4035",
   "metadata": {},
   "outputs": [],
   "source": [
    "graph.plot_route_animated(get_solution_path(path, problem.shortest_paths), problem.target_nodes, render_every=None)"
   ]
  },
  {
   "cell_type": "markdown",
   "id": "1e7e2fd3-048d-440e-998b-3a8cc5b5c012",
   "metadata": {},
   "source": [
    "## Genetic algorithm"
   ]
  },
  {
   "cell_type": "markdown",
   "id": "7adfd283-f05f-4271-96b5-0be7249d857a",
   "metadata": {},
   "source": [
    "Чистые стохастические процессы слишком непредсказуемы, чтобы верить в и оптимальность (да и сходятся они лет 100).\\\n",
    "Поэтому стоит сохранять детерминированность для этапа выбора лучшего решения, как это и делают генетические алгоритмы.\n",
    "\n",
    "По факту генетический алгоритм это разновидность классического Hill Climbing:\n",
    "1. *init_solutions* - Инициализируем $k$ случайных решений.\n",
    "2. *make_options* - Из всего пула выберем 2 случайных решения $a,b$ из пула и для них:\n",
    "    1. Выберем случайно $0\\leq h \\leq len(a)$\n",
    "    2. Проведем процедуру **Скрещевания** решений:\n",
    "        * Построим отображения (перестановки) $\\sigma_a, \\sigma_b$ тривиального решения $O$ в решения $а,b$\n",
    "        * Создадим новые перестановки $\\sigma_1 = \\sigma_a[:h]+\\sigma_b[h:]$ и $\\sigma_2 = \\sigma_b[:h]+\\sigma_a[h:]$\n",
    "        * Применим их к $O$ и получим два новых решения $с_1,с_2$\n",
    "    3. Проведем процедуру **Мутации** для каждого нового решения $c_i$:\n",
    "        * Выберем позиции из распределения Бернулли с вероятность мутации позиции $p_mut$\n",
    "        * Перемешаем мутирующие позиции в решении $с$ любым способом (можно использовать функцию *swap_positions*)\n",
    "    4. Добавим новые решения к имеющемуся пулу решений и отправим его на оценку\n",
    "3. *select_best_options* - Отсортируем решения по оптимальности и выберем $k$ лучших (держим популяцию под контролем).\n",
    "4. *evaluation_function* - Зафиксируем лучший вариант итерации и запомним его оценку оптимальности (**Так же как в Hill Climbing**)\n",
    "5. Если вариант решения, полученный в результате шагов 2-4 лучше известного, то возвращаемся на шаг 2, иначе заканчиваем работу (**Так же как в Hill Climbing**)\n",
    "\n",
    "Таким образом, для реализации генетического алгоритма нужно перегрузить только 3 функции."
   ]
  },
  {
   "cell_type": "code",
   "execution_count": null,
   "id": "99d852b6-e462-41f7-885c-c610423bafd9",
   "metadata": {},
   "outputs": [],
   "source": [
    "import random\n",
    "\n",
    "class GeneticAlgorithm(SimpleHillClimb):\n",
    "    def __init__(self, solution_pool_size=10, mutation_rate=0.1):\n",
    "        super().__init__(solution_pool_size)\n",
    "        self.mut_r = mutation_rate\n",
    "        \n",
    "    def init_solutions(self, solution_size: int) -> List[np.ndarray]:\n",
    "        ### TO IMPLEMENT ###\n",
    "        pass\n",
    "\n",
    "    def make_options(self, solutions: List[np.ndarray]) -> List[np.ndarray]:\n",
    "        ### TO IMPLEMENT ###\n",
    "        pass\n",
    "    "
   ]
  },
  {
   "cell_type": "code",
   "execution_count": null,
   "id": "bf4ebb5d-6751-4ecf-9f75-36280be8a155",
   "metadata": {},
   "outputs": [],
   "source": [
    "solver = GeneticAlgorithm(mutation_rate=0.05)\n",
    "\n",
    "path, cost=solver.solve(problem.distance_matrix, tol_steps=10000)\n",
    "path, cost"
   ]
  },
  {
   "cell_type": "code",
   "execution_count": null,
   "id": "cd36ecb5-90bb-47e2-b34f-7f3405b1ba40",
   "metadata": {},
   "outputs": [],
   "source": [
    "graph.plot_route_animated(get_solution_path(path, problem.shortest_paths), problem.target_nodes, render_every=50)"
   ]
  },
  {
   "cell_type": "markdown",
   "id": "1a0c0ea0-3379-46d8-803e-22e3486e509a",
   "metadata": {},
   "source": [
    "## Ant colony optimization"
   ]
  },
  {
   "cell_type": "markdown",
   "id": "fccc67a4-43e1-4165-9f1a-3f7e45947dd3",
   "metadata": {},
   "source": [
    "Генетический алгоритм хоть и эффективный, но все ещё случайный. \n",
    "При генерации решений не используется никакая информация об оптимальности и поэтому имеем ту же проблему, что и в стохастическом Hill Climbing - можем генерировать постоянно неоптимальные решения и тем самым застревать в локальном минимуме.\n",
    "Есть решения вроде инбридинга, но это для сторонников голубой крови и монархии)\n",
    "\n",
    "Вместо шаманизма можно посмотреть на макроуровень природы - на роевой интеллект. \n",
    "Идея любого роевого интеллекта - много параллельных агентов и синхронизации их знаний на каждой итерации. Поскольку агенты начинают со случайных решений и двигаются на первых итерациях довольно хаотично, то мы сохраняем все преимущества стохастических методов, однако синхронизация позволяет сокращать хаотичное исследование в пользу организованной эксплуатации лучших решений, тем самым гарантируя, что на последних итерациях мы будем только улучшать известное.\n",
    "\n",
    "Муравьиный алгоритм (Ant Colony Optimization) - наиболее известный вариант роевого интеллекта. В наших терминах он имеет следующую логику:\n",
    "1. *init_solutions* - Для каждого агента колонии выберем случайную **точку** старта решения\n",
    "2. *make_options* - для каждого агента достроим решение до конца:\n",
    "    1. Пока все точки не вошли в решение $S_{cur}$:\n",
    "       * Отмечаем последнюю точку $i$ текущего решения $S_{cur}$ как посещенную\n",
    "       * Для всех точек $j$ определим вероятность\n",
    "         $$P_{ij}=\\frac{\\tau_{ij}^\\alpha + D_{ij}^{-\\beta}}{\\sum_{j}{\\tau_{ij}^\\alpha + D_{ij}^{-\\beta}}}$$\n",
    "         где $\\tau$ - феромоны, привлекательность ребра с точки зрения известной рою оптимальности, $D$ - матрица длин кратчайших путей между точками (веса ребер), $\\beta\\geq 1$ и $\\alpha \\geq 0$ - гиперпараметры\n",
    "       * В качестве следующей точки $next$ выберем такую, что $P_{i,next}=\\max_{j}{P_{ij}}$\n",
    "       * Добавим точку $next$ в решение $S_{cur}$ и закончим итерацию\n",
    "    2. Для всех ребер $ij$ решения $S_{cur}$ запишем обновление для матрицы феромонов\n",
    "       $$\\Delta\\tau_{ij}=\\Delta\\tau_{ij} + \\frac{\\delta}{|S_{cur}|}$$\n",
    "       где $\\delta$ - количество феромонов, которое агент может распределить по всему пути\n",
    "3. Обновим матрицу феромонов для точек по формуле:\n",
    "   $$\\tau_{ij}=(1-\\rho)\\tau_{ij}+\\Delta\\tau_{ij}$$\n",
    "   где $0\\leq \\rho \\leq 1$ - скорость испарения феромонов\n",
    "4. *select_best_options* - Отсортируем соседние решения по оптимальности и выберем лучшие. (**Так же как в Hill Climbing**)\n",
    "5. *evaluation_function* - Зафиксируем лучший вариант итерации и запомним его оценку оптимальности (**Так же как в Hill Climbing**)\n",
    "6. Если вариант решения, полученный в результате шагов 1-4 лучше известного, то возвращаемся на **шаг 1**, иначе заканчиваем работу (**НА КАЖДОЙ ИТЕРАЦИИ НУЖНО ИНИЦИАЛИЗИРОВАТЬ РЕШЕНИЯ АГЕНТОВ**)\n",
    "\n",
    "Как можно заметить в отличие от Hill Climbing, в муравьином алгоритме лучшее решение не используется явно, а вместо этого записывается в матрицу феромонов во взвешенной форме, что позволяет агентам рассматривать его модификации в наиболее слабых (по весу) местах.  \n"
   ]
  },
  {
   "cell_type": "code",
   "execution_count": null,
   "id": "c50ee16d-4722-42b8-96c7-17338e7cd2d0",
   "metadata": {},
   "outputs": [],
   "source": [
    "class AntColony(SimpleHillClimb):\n",
    "    def __init__(self, colony_size=10, alpha=0.5, beta=1.0, delta=1.0, rho=0.9):\n",
    "        super().__init__(solution_pool_size=colony_size)\n",
    "        self.alpha = alpha\n",
    "        self.beta = beta\n",
    "        self.rho = rho\n",
    "        self.delta = delta\n",
    "\n",
    "    def init_iteration_parameters(self, distance_matrix):\n",
    "        self.pheromones = np.zeros_like(distance_matrix)\n",
    "\n",
    "    def init_solutions(self, solution_size: int) -> List[np.ndarray]:\n",
    "        ### TO IMPLEMENT ###\n",
    "        pass\n",
    "\n",
    "    def make_options(self, solutions: List[np.ndarray], distance_matrix) -> List[np.ndarray]:\n",
    "        ### TO IMPLEMENT ###\n",
    "        pass\n",
    "            \n",
    "    \n",
    "    def main_iteration(self, best_solutions, record, distance_matrix):\n",
    "        ### TO IMPLEMENT ###\n",
    "        pass"
   ]
  },
  {
   "cell_type": "code",
   "execution_count": null,
   "id": "fca4db75-5ce5-4778-b7d3-0587ce1293ae",
   "metadata": {},
   "outputs": [],
   "source": [
    "solver = AntColony()\n",
    "\n",
    "path, cost=solver.solve(problem.distance_matrix, tol_steps=1000)\n",
    "path, cost"
   ]
  },
  {
   "cell_type": "code",
   "execution_count": null,
   "id": "51ae852b-ed78-4cd0-9cec-c912991c4e5a",
   "metadata": {},
   "outputs": [],
   "source": [
    "graph.plot_route_animated(get_solution_path(path, problem.shortest_paths), problem.target_nodes, render_every=50)"
   ]
  },
  {
   "cell_type": "code",
   "execution_count": null,
   "id": "5344d89c-6d4f-4d8f-b98a-832de54beed3",
   "metadata": {},
   "outputs": [],
   "source": []
  }
 ],
 "metadata": {
  "kernelspec": {
   "display_name": "ai_course",
   "language": "python",
   "name": "ai_course"
  },
  "language_info": {
   "codemirror_mode": {
    "name": "ipython",
    "version": 3
   },
   "file_extension": ".py",
   "mimetype": "text/x-python",
   "name": "python",
   "nbconvert_exporter": "python",
   "pygments_lexer": "ipython3",
   "version": "3.10.14"
  }
 },
 "nbformat": 4,
 "nbformat_minor": 5
}
